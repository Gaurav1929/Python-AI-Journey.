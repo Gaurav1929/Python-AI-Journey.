{
  "nbformat": 4,
  "nbformat_minor": 0,
  "metadata": {
    "colab": {
      "provenance": []
    },
    "kernelspec": {
      "name": "python3",
      "display_name": "Python 3"
    },
    "language_info": {
      "name": "python"
    }
  },
  "cells": [
    {
      "cell_type": "markdown",
      "source": [
        "Match case"
      ],
      "metadata": {
        "id": "T7X5HLpP2c95"
      }
    },
    {
      "cell_type": "code",
      "source": [
        "a = int(input(\"Enter a number between 1 and 10: \"))\n",
        "\n",
        "match  a:\n",
        "\n",
        "  case 1:\n",
        "    print(\"You wan a bike\")\n",
        "  case 5:\n",
        "    print(\"You won a television\")\n",
        "  case 7:\n",
        "    print(\"You won a Mobile\")\n",
        "  case _:\n",
        "    print(\"Better luck nex time\")\n",
        "\n",
        "\n",
        "\n"
      ],
      "metadata": {
        "colab": {
          "base_uri": "https://localhost:8080/"
        },
        "id": "xhDJHYgA2fOo",
        "outputId": "8c83f6d4-d0bc-4825-98f3-6adfe00631a9"
      },
      "execution_count": null,
      "outputs": [
        {
          "output_type": "stream",
          "name": "stdout",
          "text": [
            "Enter a number between 1 and 10: 7\n",
            "You won a Mobile\n"
          ]
        }
      ]
    }
  ]
}
