{
  "nbformat": 4,
  "nbformat_minor": 0,
  "metadata": {
    "colab": {
      "provenance": []
    },
    "kernelspec": {
      "name": "python3",
      "display_name": "Python 3"
    },
    "language_info": {
      "name": "python"
    }
  },
  "cells": [
    {
      "cell_type": "markdown",
      "source": [
        "Break Statement\n"
      ],
      "metadata": {
        "id": "E6s8ycdcDbpp"
      }
    },
    {
      "cell_type": "code",
      "source": [
        "for i in range (0,20):\n",
        "  print(i)\n",
        "  if i == 15:\n",
        "    break\n",
        "\n",
        "for i in range (1,10):\n",
        "  print(i)\n",
        "  if i == 4:\n",
        "      break\n"
      ],
      "metadata": {
        "colab": {
          "base_uri": "https://localhost:8080/"
        },
        "id": "0k2pwlCBDfJS",
        "outputId": "860d4a59-cc3e-415d-e9ab-0b2b468049aa"
      },
      "execution_count": null,
      "outputs": [
        {
          "output_type": "stream",
          "name": "stdout",
          "text": [
            "1\n",
            "2\n",
            "3\n",
            "4\n"
          ]
        }
      ]
    },
    {
      "cell_type": "markdown",
      "source": [
        "Continue Statement\n"
      ],
      "metadata": {
        "id": "UtOb5qHUEb63"
      }
    },
    {
      "cell_type": "code",
      "source": [
        "for i in range (1,10):\n",
        "  print(i)\n",
        "  if i == 8:\n",
        "    continue\n",
        "\n"
      ],
      "metadata": {
        "colab": {
          "base_uri": "https://localhost:8080/"
        },
        "id": "f5qpRd80Ee9m",
        "outputId": "5fca2426-b591-4d59-df08-c5db4fe94c2c"
      },
      "execution_count": null,
      "outputs": [
        {
          "output_type": "stream",
          "name": "stdout",
          "text": [
            "1\n",
            "2\n",
            "3\n",
            "4\n",
            "5\n",
            "6\n",
            "7\n",
            "8\n",
            "9\n"
          ]
        }
      ]
    },
    {
      "cell_type": "markdown",
      "source": [
        "Pass Statement"
      ],
      "metadata": {
        "id": "QkLkqIF6FH9i"
      }
    },
    {
      "cell_type": "code",
      "source": [
        "if i in range(0,1000):\n",
        " if i == 99:\n",
        "  pass\n",
        "print(\"End of program\")"
      ],
      "metadata": {
        "colab": {
          "base_uri": "https://localhost:8080/"
        },
        "id": "JnwQV7vDFQMY",
        "outputId": "dab20da8-c67f-42e5-9573-63cc072a2f56"
      },
      "execution_count": null,
      "outputs": [
        {
          "output_type": "stream",
          "name": "stdout",
          "text": [
            "End of program\n"
          ]
        }
      ]
    },
    {
      "cell_type": "code",
      "source": [
        "for i in range(1, 11):  # Complete the range\n",
        "    print(\"56 x \" + str(i) + \" = \" + str(56 *i))"
      ],
      "metadata": {
        "colab": {
          "base_uri": "https://localhost:8080/"
        },
        "id": "ceATlUY6GhEt",
        "outputId": "84990278-7fe5-4d0a-8633-43d063af5e60"
      },
      "execution_count": null,
      "outputs": [
        {
          "output_type": "stream",
          "name": "stdout",
          "text": [
            "56 x 1 = 56\n",
            "56 x 2 = 112\n",
            "56 x 3 = 168\n",
            "56 x 4 = 224\n",
            "56 x 5 = 280\n",
            "56 x 6 = 336\n",
            "56 x 7 = 392\n",
            "56 x 8 = 448\n",
            "56 x 9 = 504\n",
            "56 x 10 = 560\n"
          ]
        }
      ]
    }
  ]
}
