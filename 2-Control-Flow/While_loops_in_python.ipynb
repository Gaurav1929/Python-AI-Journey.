{
  "nbformat": 4,
  "nbformat_minor": 0,
  "metadata": {
    "colab": {
      "provenance": []
    },
    "kernelspec": {
      "name": "python3",
      "display_name": "Python 3"
    },
    "language_info": {
      "name": "python"
    }
  },
  "cells": [
    {
      "cell_type": "markdown",
      "source": [
        "While loops in python"
      ],
      "metadata": {
        "id": "q67zr9L39uDy"
      }
    },
    {
      "cell_type": "code",
      "source": [
        "# print(1)\n",
        "# print(2)\n",
        "# print(3)\n",
        "# print(4)\n",
        "# print(5)\n",
        "\n",
        "\n",
        "i = 5\n",
        "while i<15:\n",
        "  print(i)\n",
        "  i = i + 2"
      ],
      "metadata": {
        "colab": {
          "base_uri": "https://localhost:8080/"
        },
        "id": "ntp0nG_nAqLA",
        "outputId": "ef4fbd13-1f37-4172-ee8a-6650845617ad"
      },
      "execution_count": null,
      "outputs": [
        {
          "output_type": "stream",
          "name": "stdout",
          "text": [
            "5\n",
            "7\n",
            "9\n",
            "11\n",
            "13\n"
          ]
        }
      ]
    }
  ]
}
