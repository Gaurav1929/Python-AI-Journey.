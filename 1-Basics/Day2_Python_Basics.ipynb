{
  "nbformat": 4,
  "nbformat_minor": 0,
  "metadata": {
    "colab": {
      "provenance": []
    },
    "kernelspec": {
      "name": "python3",
      "display_name": "Python 3"
    },
    "language_info": {
      "name": "python"
    }
  },
  "cells": [
    {
      "cell_type": "markdown",
      "source": [
        "TYECASTING\n"
      ],
      "metadata": {
        "id": "XDFrIF5mib3e"
      }
    },
    {
      "cell_type": "code",
      "source": [
        "# typecasting example 1\n",
        "\n",
        "a = 12\n",
        "b = \"23\"\n",
        "d = 223\n",
        "\n",
        "print(a)\n",
        "print(type(a))\n",
        "\n",
        "print(b)\n",
        "print(type(b))\n",
        "\n",
        "# convert b to an integer\n",
        "c = int(b)\n",
        "print(c)\n",
        "print(type(c))\n",
        "\n",
        "print(d)\n",
        "print(type(d))\n",
        "\n",
        "# convet d to an float\n",
        "e = float(d)\n",
        "print(e)\n",
        "print(type(e))\n"
      ],
      "metadata": {
        "colab": {
          "base_uri": "https://localhost:8080/"
        },
        "id": "tsQZbGZligTk",
        "outputId": "4a13ad61-6e5a-458f-81cc-56892b3a5c0b"
      },
      "execution_count": null,
      "outputs": [
        {
          "output_type": "stream",
          "name": "stdout",
          "text": [
            "12\n",
            "<class 'int'>\n",
            "23\n",
            "<class 'str'>\n",
            "23\n",
            "<class 'int'>\n",
            "223\n",
            "<class 'int'>\n",
            "223.0\n",
            "<class 'float'>\n"
          ]
        }
      ]
    },
    {
      "cell_type": "code",
      "source": [
        "# Typecasting example 2\n",
        "\n",
        "# convert string to integer\n",
        "num_str = \"10\"\n",
        "num_int = int(num_str)\n",
        "print(num_int)\n",
        "\n",
        "# convert int to string\n",
        "num_int = 45\n",
        "num_str = str(num_int)\n",
        "print(num_str)\n",
        "\n",
        "# convert float to int\n",
        "pi = 3.14\n",
        "pi_int = int(pi)\n",
        "print(pi_int)"
      ],
      "metadata": {
        "colab": {
          "base_uri": "https://localhost:8080/"
        },
        "id": "DBNP9rrzjqmn",
        "outputId": "954b9502-53ba-4708-c970-8c2b84668f9b"
      },
      "execution_count": null,
      "outputs": [
        {
          "output_type": "stream",
          "name": "stdout",
          "text": [
            "10\n",
            "45\n",
            "3\n"
          ]
        }
      ]
    },
    {
      "cell_type": "markdown",
      "source": [
        "USER INPUT IN PYTHON"
      ],
      "metadata": {
        "id": "tQpgRoDSkuJ5"
      }
    },
    {
      "cell_type": "code",
      "source": [
        "a = input()\n",
        "print(a)\n",
        "\n",
        "b = input()\n",
        "print(b)\n",
        "\n",
        "\n",
        "a = input(\"Enter a number:\")\n",
        "print(a)\n",
        "\n",
        "b = input(\"Enter a name:\")\n",
        "print(b)\n",
        "\n",
        "c = int(a) + int(b)\n",
        "print(c)\n",
        "\n",
        "\n",
        "a = input(\"Enter a number:\")\n",
        "a = int(a)\n",
        "print (a + 3)\n",
        "\n",
        "\n",
        "a = input(\"Enter a number:\")\n",
        "a = int(a)\n",
        "\n",
        "b = input(\"Enter a number:\")\n",
        "b = int(b)\n",
        "\n",
        "c = print (a+b)\n",
        "\n",
        "a = int(input(\"Enter a number:\"))\n",
        "b = int(input(\"Enter a number:\"))\n",
        "c = print (a+b)\n",
        "\n",
        "\n",
        "\n",
        "\n",
        "\n",
        "\n",
        "\n",
        "\n",
        "\n",
        "\n"
      ],
      "metadata": {
        "colab": {
          "base_uri": "https://localhost:8080/"
        },
        "id": "XDVmeAl-kxA0",
        "outputId": "de100c35-7fe4-4664-c81c-09783980fc5f"
      },
      "execution_count": null,
      "outputs": [
        {
          "output_type": "stream",
          "name": "stdout",
          "text": [
            "45\n",
            "45\n",
            "55\n",
            "55\n",
            "Enter a number:25\n",
            "25\n",
            "Enter a name:Gauravraj\n",
            "Gauravraj\n",
            "Enter a number:45\n",
            "45\n",
            "Enter a number:23\n",
            "23\n",
            "68\n",
            "Enter a number:25\n",
            "28\n",
            "Enter a number:15\n",
            "Enter a number:20\n",
            "35\n",
            "Enter a number:13\n",
            "Enter a number:021\n",
            "34\n"
          ]
        }
      ]
    },
    {
      "cell_type": "markdown",
      "source": [
        " Comments_prints_Esc"
      ],
      "metadata": {
        "id": "2giCcmDKrubo"
      }
    },
    {
      "cell_type": "code",
      "source": [
        "print (\"Hey how  are you\")\n",
        "# single line comment\n",
        "\n",
        "# hey kunal finish the code\n",
        "\n",
        "# hey Manish review the code\n",
        "\n",
        "\n",
        "# Multi line comment\n",
        "'''\n",
        "You said:\n",
        "Which came first egg or the hen\n",
        "'''\n",
        "\n",
        "\n",
        "\n"
      ],
      "metadata": {
        "colab": {
          "base_uri": "https://localhost:8080/",
          "height": 53
        },
        "collapsed": true,
        "id": "mM9FpD7_rzl3",
        "outputId": "a0362c6a-1386-49a8-be23-0e4ddfe27498"
      },
      "execution_count": null,
      "outputs": [
        {
          "output_type": "stream",
          "name": "stdout",
          "text": [
            "Hey how  are you\n"
          ]
        },
        {
          "output_type": "execute_result",
          "data": {
            "text/plain": [
              "'\\nYou said:\\nWhich came first egg or the hen\\n'"
            ],
            "application/vnd.google.colaboratory.intrinsic+json": {
              "type": "string"
            }
          },
          "metadata": {},
          "execution_count": 145
        }
      ]
    },
    {
      "cell_type": "markdown",
      "source": [
        "Escape sequence characters\n"
      ],
      "metadata": {
        "id": "ixh-jtCztGEs"
      }
    },
    {
      "cell_type": "code",
      "source": [
        "print(\"hello how are you\\ni am good\")\n",
        "print(\"hello how are you\\ni am good\\\\new line\")\n",
        "print(\"Hello \\\" world\")\n",
        "\n",
        "print(\"Hello\\nworld!\")\n",
        "print(\"this is a tab\\tcharacter\")"
      ],
      "metadata": {
        "colab": {
          "base_uri": "https://localhost:8080/"
        },
        "collapsed": true,
        "id": "8LxrIgu6tKF7",
        "outputId": "4fd15541-fe8c-4640-f964-4dc0ed986825"
      },
      "execution_count": null,
      "outputs": [
        {
          "output_type": "stream",
          "name": "stdout",
          "text": [
            "hello how are you\n",
            "i am good\n",
            "hello how are you\n",
            "i am good\\new line\n",
            "Hello \" world\n",
            "Hello\n",
            "world!\n",
            "this is a tab\tcharacter\n"
          ]
        }
      ]
    },
    {
      "cell_type": "markdown",
      "source": [
        "print statement"
      ],
      "metadata": {
        "id": "MrOMFTvkvdq0"
      }
    },
    {
      "cell_type": "code",
      "source": [
        "print ('hello world', \"Gaurav\" ,  5 ,  sep =\",\")\n",
        "\n",
        "print(\"hello world\", end= \",\")\n",
        "print('gaurav', end=\"++\")"
      ],
      "metadata": {
        "colab": {
          "base_uri": "https://localhost:8080/"
        },
        "id": "WXN32bkIvk80",
        "outputId": "86b20243-5801-4520-ab06-faacd612e781"
      },
      "execution_count": null,
      "outputs": [
        {
          "output_type": "stream",
          "name": "stdout",
          "text": [
            "hello world,Gaurav,5\n",
            "hello world,gaurav++"
          ]
        }
      ]
    },
    {
      "cell_type": "markdown",
      "source": [
        "OPERATORS IN PYTHON"
      ],
      "metadata": {
        "id": "NStmi8SHzJG1"
      }
    },
    {
      "cell_type": "code",
      "source": [
        "# 1.Arithmetic operators\n",
        "\n",
        "a = 45\n",
        "b = 55\n",
        "c = True\n",
        "d = False\n",
        "\n",
        "print(\"a + b = \", a + b)\n",
        "print(\"a - b = \", a - b)\n",
        "print(\"a * b = \", a * b)\n",
        "print(\"a / b = \", a / b)\n",
        "print(\"a % b = \", a % b)\n",
        "print(\"a // b = \",a // b)\n",
        "print(\"a ** b = \",a ** b)\n",
        "\n",
        "\n",
        "\n",
        "# 2. Conditional operators\n",
        "\n",
        "print(a>b)\n",
        "print(a<b)\n",
        "print(a>=b)\n",
        "print(a<=b)\n",
        "print(a==b)\n",
        "print(a==45)\n",
        "print(a!=45)\n",
        "print(a!=b)\n",
        "\n",
        "\n",
        "# Logical operators\n",
        "\n",
        "#(for and operator)\n",
        "print(c and c)\n",
        "print(c and d)\n",
        "print(d and d)\n",
        "print(d and c)\n",
        "\n",
        "\n",
        "#(for or operator)\n",
        "print(c or c)\n",
        "print(c or d)\n",
        "print(d or d)\n",
        "print(d or c)\n",
        "\n",
        "#(for not operator)\n",
        "print(not(c))\n",
        "print(not(d))\n",
        "\n",
        "\n",
        "# Assignment operators\n",
        "\n",
        "a = 45\n",
        "b = 55\n",
        "\n",
        "a+=3\n",
        "print(a)\n",
        "\n",
        "a-=3\n",
        "print(a)\n",
        "\n",
        "a*=3\n",
        "print(a)"
      ],
      "metadata": {
        "colab": {
          "base_uri": "https://localhost:8080/"
        },
        "id": "BfRn_XV-zLOe",
        "outputId": "888aa2d1-641c-4119-84dd-30d585fa191c"
      },
      "execution_count": null,
      "outputs": [
        {
          "output_type": "stream",
          "name": "stdout",
          "text": [
            "a + b =  100\n",
            "a - b =  -10\n",
            "a * b =  2475\n",
            "a / b =  0.8181818181818182\n",
            "a % b =  45\n",
            "a // b =  0\n",
            "a ** b =  8446723104767055758205216778747351372643377994297322619576817714914795942604541778564453125\n",
            "False\n",
            "True\n",
            "False\n",
            "True\n",
            "False\n",
            "True\n",
            "False\n",
            "True\n",
            "True\n",
            "False\n",
            "False\n",
            "False\n",
            "True\n",
            "True\n",
            "False\n",
            "True\n",
            "False\n",
            "True\n",
            "48\n",
            "45\n",
            "135\n"
          ]
        }
      ]
    }
  ]
}
