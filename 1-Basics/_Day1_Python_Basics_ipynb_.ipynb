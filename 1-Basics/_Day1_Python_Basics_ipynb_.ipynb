{
  "nbformat": 4,
  "nbformat_minor": 0,
  "metadata": {
    "colab": {
      "provenance": []
    },
    "kernelspec": {
      "name": "python3",
      "display_name": "Python 3"
    },
    "language_info": {
      "name": "python"
    }
  },
  "cells": [
    {
      "cell_type": "markdown",
      "source": [
        "# variables and data types"
      ],
      "metadata": {
        "id": "_f6Xh7ZVx3MD"
      }
    },
    {
      "cell_type": "code",
      "source": [
        "name = \"GAURAVRAJ SINGH\" #string\n",
        "print( name )\n",
        "print(type(name))\n",
        "\n",
        "cgpa = 7.25 #float\n",
        "print( cgpa )\n",
        "print(type(cgpa) )\n",
        "\n",
        "age = 22 #integer\n",
        "print( age )\n",
        "print(type(age))\n",
        "\n",
        "is_completed = True # boolean\n",
        "print( is_completed )\n",
        "print(type(is_completed))\n"
      ],
      "metadata": {
        "colab": {
          "base_uri": "https://localhost:8080/"
        },
        "id": "_Wx2fnbpx6n4",
        "outputId": "5fad2b3d-ab34-4dc4-9419-f564694248ee"
      },
      "execution_count": null,
      "outputs": [
        {
          "output_type": "stream",
          "name": "stdout",
          "text": [
            "GAURAVRAJ SINGH\n",
            "<class 'str'>\n",
            "7.25\n",
            "<class 'float'>\n",
            "22\n",
            "<class 'int'>\n",
            "True\n",
            "<class 'bool'>\n"
          ]
        }
      ]
    },
    {
      "cell_type": "code",
      "source": [],
      "metadata": {
        "id": "rcsHVSLKzzTO"
      },
      "execution_count": null,
      "outputs": []
    }
  ]
}
