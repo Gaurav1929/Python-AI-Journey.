{
  "nbformat": 4,
  "nbformat_minor": 0,
  "metadata": {
    "colab": {
      "provenance": []
    },
    "kernelspec": {
      "name": "python3",
      "display_name": "Python 3"
    },
    "language_info": {
      "name": "python"
    }
  },
  "cells": [
    {
      "cell_type": "markdown",
      "source": [
        "If-else Conditional Statements"
      ],
      "metadata": {
        "id": "xqDjdus8uow5"
      }
    },
    {
      "cell_type": "code",
      "source": [
        "#If statement\n",
        "age = 22\n",
        "\n",
        "if(age>18):\n",
        "  print(\"you can drive\")\n",
        "  print(\"thank you\")\n",
        "\n",
        "print(\"End of program\")"
      ],
      "metadata": {
        "colab": {
          "base_uri": "https://localhost:8080/"
        },
        "id": "HS_4Uc1FvQAB",
        "outputId": "fa4c377d-f0b5-43b7-8b02-3ae2050bd1be"
      },
      "execution_count": null,
      "outputs": [
        {
          "output_type": "stream",
          "name": "stdout",
          "text": [
            "you can drive\n",
            "thank you\n",
            "End of program\n"
          ]
        }
      ]
    },
    {
      "cell_type": "code",
      "source": [
        "# if-else statement\n",
        "age = 25\n",
        "age = int(input(\"Enter your age:\"))\n",
        "\n",
        "if(age>18):\n",
        "  print(\"you can drive\")\n",
        "\n",
        "else:\n",
        "  print(\"you cannot drive\")\n",
        "\n",
        "print(\"End of program\")\n",
        "\n"
      ],
      "metadata": {
        "colab": {
          "base_uri": "https://localhost:8080/"
        },
        "id": "Fkpjv_7iw3Wk",
        "outputId": "4d1ee181-fcfa-4d05-cf6d-72831fc51673"
      },
      "execution_count": null,
      "outputs": [
        {
          "output_type": "stream",
          "name": "stdout",
          "text": [
            "Enter your age:22\n",
            "you can drive\n",
            "End of program\n"
          ]
        }
      ]
    },
    {
      "cell_type": "code",
      "source": [
        "# if-elif-else statement\n",
        "\n",
        "age = int(input(\"Enter your age:\"))\n",
        "\n",
        "if(age>18):\n",
        "  print(\"You can drive\")\n",
        "elif(age == 18):\n",
        "  print(\"You are not eligible currently\")\n",
        "else:\n",
        "  print(\"You cannot drive\")\n",
        "\n",
        "\n",
        "\n"
      ],
      "metadata": {
        "colab": {
          "base_uri": "https://localhost:8080/"
        },
        "id": "M0kx12npyjQm",
        "outputId": "bfcd2bfe-3119-47a8-9eb3-8062aa6e4685"
      },
      "execution_count": null,
      "outputs": [
        {
          "output_type": "stream",
          "name": "stdout",
          "text": [
            "Enter your age:12\n",
            "You cannot drive\n"
          ]
        }
      ]
    },
    {
      "cell_type": "code",
      "source": [
        "marks = 72\n",
        "if marks >= 90:\n",
        "    grade = 'A'\n",
        "elif marks >= 80:\n",
        "    grade = 'B'\n",
        "elif marks >= 70:\n",
        "    grade = 'C'\n",
        "else:\n",
        "    grade = 'D'\n",
        "\n",
        "print(\"Grade:\", grade)\n"
      ],
      "metadata": {
        "colab": {
          "base_uri": "https://localhost:8080/"
        },
        "id": "H6ksgvoZdGdY",
        "outputId": "2e2afea8-58b7-454f-ee38-98b12e2d43db"
      },
      "execution_count": null,
      "outputs": [
        {
          "output_type": "stream",
          "name": "stdout",
          "text": [
            "Grade: C\n"
          ]
        }
      ]
    },
    {
      "cell_type": "code",
      "source": [
        "# Write a Python program to check whether a number is even or odd.\n",
        "\n",
        "num = int(input(\"Enter a number :\"))\n",
        "\n",
        "if(num%2 == 0):\n",
        "  print(\"number is even\")\n",
        "else:\n",
        "  print(\"number is odd\")\n",
        "\n"
      ],
      "metadata": {
        "colab": {
          "base_uri": "https://localhost:8080/"
        },
        "id": "5BQQ0vXDdx1j",
        "outputId": "73d1f325-c0db-4c8f-ffc7-2d9721525b9f"
      },
      "execution_count": null,
      "outputs": [
        {
          "output_type": "stream",
          "name": "stdout",
          "text": [
            "Enter a number :24\n",
            "number is even\n"
          ]
        }
      ]
    },
    {
      "cell_type": "code",
      "source": [
        "# Check if a number is positive, negative, or zero.\n",
        "\n",
        "num = int(input(\"Enter a number :\"))\n",
        "\n",
        "if num > 0:\n",
        "  print(\"number is positive\")\n",
        "elif num == 0:\n",
        "  print(\"number is zero\")\n",
        "else:\n",
        "  print(\"number is negative\")\n",
        "\n",
        "\n",
        "\n",
        "\n"
      ],
      "metadata": {
        "id": "J3qVnsbBfP9Z",
        "colab": {
          "base_uri": "https://localhost:8080/"
        },
        "outputId": "1a2a7587-abc7-462d-a25e-26aa66538ffd"
      },
      "execution_count": null,
      "outputs": [
        {
          "output_type": "stream",
          "name": "stdout",
          "text": [
            "Enter a number :-52\n",
            "number is negative\n"
          ]
        }
      ]
    },
    {
      "cell_type": "code",
      "source": [
        "# Take two inputs from user and print the greater one.\n",
        "\n",
        "num1 = int(input(\"Enter a number :\"))\n",
        "num2 = int(input(\"Enter a number :\"))\n",
        "\n",
        "if num1>num2:\n",
        "  print(\"num1 is greater\")\n",
        "else:\n",
        "  print(\"num2 is greater\")\n"
      ],
      "metadata": {
        "colab": {
          "base_uri": "https://localhost:8080/"
        },
        "id": "oCE6_pTTgi8z",
        "outputId": "14ab17e7-e192-4e85-deb3-ec4fdb22ccee"
      },
      "execution_count": null,
      "outputs": [
        {
          "output_type": "stream",
          "name": "stdout",
          "text": [
            "Enter a number :54\n",
            "Enter a number :53\n",
            "num1 is greater\n"
          ]
        }
      ]
    },
    {
      "cell_type": "code",
      "source": [
        "# Check whether a number is divisible by both 5 and 11.\n",
        "\n",
        "num = int(input(\"Enter a number :\"))\n",
        "\n",
        "if(num%5 == 0 and num%11 == 0):\n",
        "  print(\"number is divisible by 5 and 11\")\n",
        "else:\n",
        "  print(\"number is not divisible by 5 and 11\")\n",
        "\n",
        "\n"
      ],
      "metadata": {
        "colab": {
          "base_uri": "https://localhost:8080/"
        },
        "id": "r_wjVo0ohSjb",
        "outputId": "ce15337b-9598-4072-a67f-60e811f3fb53"
      },
      "execution_count": null,
      "outputs": [
        {
          "output_type": "stream",
          "name": "stdout",
          "text": [
            "Enter a number :55\n",
            "number is divisible by 5 and 11\n"
          ]
        }
      ]
    },
    {
      "cell_type": "code",
      "source": [
        "# Check if a year is a leap year or not.\n",
        "\n",
        "year = int(input(\"Enter a year :\"))\n",
        "\n",
        "if (year % 4 == 0 and year % 100 != 0) or (year % 400 == 0):\n",
        "  print(\"leap year\")\n",
        "else:\n",
        "  print(\"not a leap year\")\n",
        "\n"
      ],
      "metadata": {
        "colab": {
          "base_uri": "https://localhost:8080/"
        },
        "id": "iQeAxTKmiY4E",
        "outputId": "4b502d41-a076-4483-aa4c-89ddc3382bbb"
      },
      "execution_count": null,
      "outputs": [
        {
          "output_type": "stream",
          "name": "stdout",
          "text": [
            "Enter a year :1600\n",
            "leap year\n"
          ]
        }
      ]
    },
    {
      "cell_type": "code",
      "source": [
        "# Take a character from user and check if it's a vowel or consonant.\n",
        "char = input(\"Enter a alphabet :\").lower()\n",
        "\n",
        "if (char in \"a,e,i,o,u\"):\n",
        "  print(\"character is a vowel\")\n",
        "else:\n",
        "  print(\"character is a constant\")\n",
        "\n",
        "\n"
      ],
      "metadata": {
        "colab": {
          "base_uri": "https://localhost:8080/"
        },
        "id": "fUlHPhN8lewZ",
        "outputId": "e9d51198-b1c6-42f8-e992-8c13c2b78f74"
      },
      "execution_count": null,
      "outputs": [
        {
          "output_type": "stream",
          "name": "stdout",
          "text": [
            "Enter a alphabet :u\n",
            "character is a vowel\n"
          ]
        }
      ]
    },
    {
      "cell_type": "code",
      "source": [
        "# Take three inputs and print the largest.\n",
        "\n",
        "a = int(input(\"Enter first number :\"))\n",
        "b = int(input(\"Enter second number :\"))\n",
        "c = int(input(\"Enter a third number :\"))\n",
        "\n",
        "if a>=b and a>=c:\n",
        "  print(\"the greatest number is:\", a)\n",
        "elif b>=a and b>=c:\n",
        "  print(\"the greatest number is:\", b)\n",
        "else:\n",
        "  print(\"the greatest number is:\", c)\n"
      ],
      "metadata": {
        "colab": {
          "base_uri": "https://localhost:8080/"
        },
        "id": "ARb1O2ahm-eB",
        "outputId": "6fe8e7dd-83b7-4304-91fa-6784a90b5c41"
      },
      "execution_count": null,
      "outputs": [
        {
          "output_type": "stream",
          "name": "stdout",
          "text": [
            "Enter first number :65\n",
            "Enter second number :55\n",
            "Enter a third number :75\n",
            "the greatest number is: 75\n"
          ]
        }
      ]
    },
    {
      "cell_type": "code",
      "source": [
        "# Print \"Fizz\" if multiple of 3, \"Buzz\" if multiple of 5, \"FizzBuzz\" if both.\n",
        "\n",
        "num = int(input(\"Enter a number :\"))\n",
        "\n",
        "if num % 3 == 0 and num % 5 == 0:\n",
        "  print(\"FizzBuzz\")\n",
        "elif num % 3 == 0:\n",
        "  print(\"Fizz\")\n",
        "elif num % 5 == 0:\n",
        "  print(\"Buzz\")\n",
        "else:\n",
        "  print(\"Number is not divisible by 3 and 5\")\n"
      ],
      "metadata": {
        "colab": {
          "base_uri": "https://localhost:8080/"
        },
        "id": "pmbMjAQHqSll",
        "outputId": "275de2dc-e778-4e53-ee71-e09738657b0a"
      },
      "execution_count": null,
      "outputs": [
        {
          "output_type": "stream",
          "name": "stdout",
          "text": [
            "Enter a number :32\n",
            "Number is not divisible by 3 and 5\n"
          ]
        }
      ]
    },
    {
      "cell_type": "code",
      "source": [
        "# Assume minimum age to vote is 18.\n",
        "\n",
        "age = int(input(\"Enter your age:\"))\n",
        "\n",
        "if age<0:\n",
        "  print(\"Invalid age\")\n",
        "elif age>=18:\n",
        "  print(\"Eligible for voting\")\n",
        "else:\n",
        "  print(\"Not eligible for voting\")\n",
        "\n",
        "\n"
      ],
      "metadata": {
        "colab": {
          "base_uri": "https://localhost:8080/"
        },
        "id": "_OBsFGkrtHfy",
        "outputId": "f7bcadc0-9a4d-4d33-85ea-548dcc3c357f"
      },
      "execution_count": null,
      "outputs": [
        {
          "output_type": "stream",
          "name": "stdout",
          "text": [
            "Enter your age:22\n",
            "Eligible for voting\n"
          ]
        }
      ]
    },
    {
      "cell_type": "code",
      "source": [
        "# Take marks and print grade based on the score.\n",
        "# 90-100: A, 80-89: B, 70-79: C, 60-69: D, Below 60: F\n",
        "\n",
        "marks = int(input(\"Enter your marks out of 100: \"))\n",
        "\n",
        "if marks < 0 or marks > 100:\n",
        "    print(\"Invalid marks entered!\")\n",
        "elif marks >= 90:\n",
        "    print(\"Grade A\")\n",
        "elif marks >= 80:\n",
        "    print(\"Grade B\")\n",
        "elif marks >= 70:\n",
        "    print(\"Grade C\")\n",
        "elif marks >= 60:\n",
        "    print(\"Grade D\")\n",
        "else:\n",
        "    print(\"Grade F\")\n",
        "\n",
        "\n"
      ],
      "metadata": {
        "colab": {
          "base_uri": "https://localhost:8080/"
        },
        "id": "FqKD52But-Yr",
        "outputId": "859cc0e0-e27e-4df6-a608-3f2e3d474bc1"
      },
      "execution_count": null,
      "outputs": [
        {
          "name": "stdout",
          "output_type": "stream",
          "text": [
            "Enter your marks out of 100: 92\n"
          ]
        }
      ]
    }
  ]
}