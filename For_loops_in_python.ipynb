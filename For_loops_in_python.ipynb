{
  "nbformat": 4,
  "nbformat_minor": 0,
  "metadata": {
    "colab": {
      "provenance": []
    },
    "kernelspec": {
      "name": "python3",
      "display_name": "Python 3"
    },
    "language_info": {
      "name": "python"
    }
  },
  "cells": [
    {
      "cell_type": "markdown",
      "source": [
        "For loops in **python**"
      ],
      "metadata": {
        "id": "FuY0c29x5jnL"
      }
    },
    {
      "cell_type": "code",
      "source": [
        "print(1)\n",
        "print(2)\n",
        "print(3)\n",
        "print(4)\n",
        "print(5)\n",
        "\n",
        "for z in range(1, 6): # range function goes from 1 to (6-1) = 5 in this case\n",
        "  print(z)\n",
        "\n",
        "for z in range(1, 11):\n",
        "  print(\"7 x\", z, \"=\", 7*z)\n",
        "\n",
        "for i in range (1, 11):\n",
        "  print(\"11 x\", i, \"=\" , 11*i)\n"
      ],
      "metadata": {
        "colab": {
          "base_uri": "https://localhost:8080/"
        },
        "id": "GcruWcKg5nZt",
        "outputId": "a73b15de-3bec-405d-cd78-262b149ab902"
      },
      "execution_count": null,
      "outputs": [
        {
          "output_type": "stream",
          "name": "stdout",
          "text": [
            "1\n",
            "2\n",
            "3\n",
            "4\n",
            "5\n",
            "1\n",
            "2\n",
            "3\n",
            "4\n",
            "5\n",
            "7 x 1 = 7\n",
            "7 x 2 = 14\n",
            "7 x 3 = 21\n",
            "7 x 4 = 28\n",
            "7 x 5 = 35\n",
            "7 x 6 = 42\n",
            "7 x 7 = 49\n",
            "7 x 8 = 56\n",
            "7 x 9 = 63\n",
            "7 x 10 = 70\n",
            "11 x 1 = 11\n",
            "11 x 2 = 22\n",
            "11 x 3 = 33\n",
            "11 x 4 = 44\n",
            "11 x 5 = 55\n",
            "11 x 6 = 66\n",
            "11 x 7 = 77\n",
            "11 x 8 = 88\n",
            "11 x 9 = 99\n",
            "11 x 10 = 110\n"
          ]
        }
      ]
    },
    {
      "cell_type": "code",
      "source": [
        "#  1. Print numbers from 1 to 10\n",
        "\n",
        "for i in range (1, 11):\n",
        "  print (i)"
      ],
      "metadata": {
        "colab": {
          "base_uri": "https://localhost:8080/"
        },
        "id": "FBe9Rx9yyuNj",
        "outputId": "d97dd5bd-84e2-43ea-8013-c579dd0d934a"
      },
      "execution_count": null,
      "outputs": [
        {
          "output_type": "stream",
          "name": "stdout",
          "text": [
            "1\n",
            "2\n",
            "3\n",
            "4\n",
            "5\n",
            "6\n",
            "7\n",
            "8\n",
            "9\n",
            "10\n"
          ]
        }
      ]
    },
    {
      "cell_type": "code",
      "source": [
        "#  2. Print even numbers from 1 to 50\n",
        "\n",
        "\n",
        "for i in range (1, 51):\n",
        "    if i % 2 == 0:\n",
        "        print(i)\n",
        "\n",
        "\n",
        "\n"
      ],
      "metadata": {
        "colab": {
          "base_uri": "https://localhost:8080/"
        },
        "id": "aEi10w8QzKcS",
        "outputId": "8db46577-6639-4a34-ff65-b6b44787ac08"
      },
      "execution_count": null,
      "outputs": [
        {
          "output_type": "stream",
          "name": "stdout",
          "text": [
            "2\n",
            "4\n",
            "6\n",
            "8\n",
            "10\n",
            "12\n",
            "14\n",
            "16\n",
            "18\n",
            "20\n",
            "22\n",
            "24\n",
            "26\n",
            "28\n",
            "30\n",
            "32\n",
            "34\n",
            "36\n",
            "38\n",
            "40\n",
            "42\n",
            "44\n",
            "46\n",
            "48\n",
            "50\n"
          ]
        }
      ]
    },
    {
      "cell_type": "code",
      "source": [
        "# Print the multiplication table of a number\n",
        "\n",
        "num = int(input(\"Enter a number :\"))\n",
        "for i in range (1, 11):\n",
        "  print (num, \"x\", i,\"=\", num*i)\n"
      ],
      "metadata": {
        "colab": {
          "base_uri": "https://localhost:8080/"
        },
        "id": "bo_H5egx0acH",
        "outputId": "e548c556-88f5-4e1b-aeed-114a35be1da0"
      },
      "execution_count": null,
      "outputs": [
        {
          "output_type": "stream",
          "name": "stdout",
          "text": [
            "Enter a number :12\n",
            "12 x 1 = 12\n",
            "12 x 2 = 24\n",
            "12 x 3 = 36\n",
            "12 x 4 = 48\n",
            "12 x 5 = 60\n",
            "12 x 6 = 72\n",
            "12 x 7 = 84\n",
            "12 x 8 = 96\n",
            "12 x 9 = 108\n",
            "12 x 10 = 120\n"
          ]
        }
      ]
    },
    {
      "cell_type": "code",
      "source": [
        "#  4. Print the sum of first 10 natural numbers\n",
        "# ➡️ Output should be 55\n",
        "\n",
        "total = 0\n",
        "for i in range (1, 11):\n",
        "  total = total + i\n",
        "print(\"sum is :\", total)"
      ],
      "metadata": {
        "colab": {
          "base_uri": "https://localhost:8080/"
        },
        "id": "r0JeTEnO16pg",
        "outputId": "223b3b2f-df42-4bea-b3a0-e44cb28944e7"
      },
      "execution_count": null,
      "outputs": [
        {
          "output_type": "stream",
          "name": "stdout",
          "text": [
            "sum is : 55\n"
          ]
        }
      ]
    },
    {
      "cell_type": "code",
      "source": [
        "# 🔹 5. Count vowels in a string\n",
        "# Input: \"hello world\"\n",
        "# Output: 3\n",
        "\n",
        "text = input(\"Enter a string :\")\n",
        "count = 0\n",
        "for char in text.lower():\n",
        "  if char in 'a,e,i,o,u':\n",
        "    count += 1\n",
        "print(\"number of vowels:\", count)"
      ],
      "metadata": {
        "colab": {
          "base_uri": "https://localhost:8080/"
        },
        "id": "jx2imBTh30fS",
        "outputId": "36510bac-4b82-4947-87ac-d11575bd7995"
      },
      "execution_count": null,
      "outputs": [
        {
          "output_type": "stream",
          "name": "stdout",
          "text": [
            "Enter a string :hello world\n",
            "number of vowels: 3\n"
          ]
        }
      ]
    },
    {
      "cell_type": "code",
      "source": [
        "#  6. Print each character of a word on a new line\n",
        "# Input: \"Python\"\n",
        "\n",
        "text = input(\"Enter a string :\")\n",
        "\n",
        "for char in text:\n",
        "  print(char)"
      ],
      "metadata": {
        "colab": {
          "base_uri": "https://localhost:8080/"
        },
        "id": "I7AjKwPr5Kys",
        "outputId": "d7dcd316-7452-450d-ae4e-63d07d884956"
      },
      "execution_count": null,
      "outputs": [
        {
          "output_type": "stream",
          "name": "stdout",
          "text": [
            "Enter a string :Python\n",
            "P\n",
            "y\n",
            "t\n",
            "h\n",
            "o\n",
            "n\n"
          ]
        }
      ]
    },
    {
      "cell_type": "code",
      "source": [
        "# 7. Print factorial of a number using for loop\n",
        "# Input: 5\n",
        "# Output: 120 (since 5! = 5×4×3×2×1)\n",
        "\n",
        "num = int(input(\"Enter a number :\"))\n",
        "factorial = 1\n",
        "\n",
        "for i in range(1, num + 1):\n",
        "    factorial *= i\n",
        "\n",
        "print(\"Factorial of\", num, \"is\", factorial)\n",
        "\n",
        "\n"
      ],
      "metadata": {
        "colab": {
          "base_uri": "https://localhost:8080/"
        },
        "id": "5DAmioqJ5vHU",
        "outputId": "95dde070-e9fb-43bd-dd2a-c318560a91b9"
      },
      "execution_count": null,
      "outputs": [
        {
          "output_type": "stream",
          "name": "stdout",
          "text": [
            "Enter a number :5\n",
            "Factorial of 5 is 120\n"
          ]
        }
      ]
    }
  ]
}